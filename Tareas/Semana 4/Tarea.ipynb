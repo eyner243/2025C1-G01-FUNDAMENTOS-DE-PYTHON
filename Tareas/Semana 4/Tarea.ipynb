{
 "cells": [
  {
   "cell_type": "markdown",
   "metadata": {
    "id": "q7R3dARlFtDY"
   },
   "source": [
    "# Segundo análisis de casos – Fundamentos de Python\n",
    "\n",
    "## Objetivo:\n",
    "En esta tarea, practicaremos los fundamentos básicos de Python resolviendo **cuatro ejercicios** de la lista planteada. Cada solución debe detallar **entradas**, **procesos** y **salidas** para comprender mejor cómo funciona cada problema.\n",
    "\n",
    "### Formato para cada ejercicio (seleccionemos 4 ejercicios):\n",
    "#### Ejercicio X:\n",
    "- **Descripción del problema:** Incluiremos el enunciado del ejercicio.\n",
    "- **Entradas:** Detallaremos los datos que debemos ingresar.\n",
    "- **Proceso:** Explicaremos cómo resolveremos el problema (algoritmo o fórmula).\n",
    "- **Salidas:** Describiremos el resultado que veremos en pantalla al final del proceso.\n",
    "\n",
    "#### Código del ejercicio:\n",
    "- Escribiremos la solución del ejercicio en una celda de código Python.\n",
    "- Agregaremos comentarios para explicar el código y hacerlo más comprensible.\n",
    "\n",
    "### Conclusión:\n",
    "- Al final, resumiremos lo que hemos aprendido resolviendo los ejercicios.\n",
    "- Reflexionaremos sobre cómo Python nos ayuda a solucionar problemas cotidianos.\n",
    "\n",
    "## Formato de entrega del informe en PDF:\n",
    "\n",
    "Debemos exportar nuestro notebook de Jupyter a formato PDF, cumpliendo con las siguientes pautas:\n",
    "\n",
    "### Portada:\n",
    "- Título: \"Primer análisis de casos – Fundamentos de Python\".\n",
    "- Nuestro nombre completo.\n",
    "- Fecha de entrega.\n",
    "- Curso.\n",
    "\n",
    "### Cuerpo del informe:\n",
    "- **Introducción:** Explicaremos brevemente los ejercicios que hemos seleccionado.\n",
    "- **Desarrollo de cada ejercicio:**\n",
    "  - Descripción del problema.\n",
    "  - Entradas, procesos y salidas detallados.\n",
    "  - Capturas de pantalla del código y del resultado de la ejecución.\n",
    "\n",
    "### Conclusión:\n",
    "- Reflexionaremos sobre el aprendizaje y las posibles dificultades que enfrentamos durante la resolución de los ejercicios.\n",
    "\n",
    "## Lista de ejercicios (Seleccionemos 4):\n",
    "\n",
    "1. Calcular el área de un triángulo a partir de la base y altura ingresadas.\n",
    "2. Convertir una cantidad de dólares a colones.\n",
    "3. Convertir grados centígrados a Fahrenheit.\n",
    "4. Mostrar cuántos segundos tiene un lustro.\n",
    "5. Calcular el tiempo que le toma a la luz viajar del sol a Marte.\n",
    "6. Calcular cuántas vueltas da una llanta en 1 km.\n",
    "7. Calcular la longitud de la sombra de un edificio de 20 metros.\n",
    "8. Comparar si la edad ingresada por dos usuarios es la misma.\n",
    "9. Calcular cuántos meses han transcurrido desde nuestra fecha de nacimiento.\n",
    "10. Calcular el promedio de un alumno en 5 materias.\n",
    "\n",
    "## Proceso de entrega:\n",
    "1. Resolveremos 4 de los ejercicios propuestos en un notebook de.\n",
    "2. Exportaremos el notebook a PDF siguiendo el formato establecido.\n",
    "3. Subiremos el PDF y el archivo de notebook (.ipynb) a la plataforma antes de la fecha límite.\n"
   ]
  },
  {
   "cell_type": "markdown",
   "metadata": {},
   "source": [
    "# Problema #1\n",
    "\n",
    "### Convertir una cantidad de dólares a colones.\n",
    "\n",
    "## Entrada: \n",
    "Leer La cantidad de dolares\n",
    "Leer tipo cambio\n",
    "\n",
    "## Proceso:\n",
    "\n",
    "cantidad_dolares * tipo_cambio\n",
    "\n",
    "## Salida:\n",
    "\n",
    "resultado de la multiplicacion"
   ]
  },
  {
   "cell_type": "code",
   "execution_count": 8,
   "metadata": {
    "colab": {
     "base_uri": "https://localhost:8080/"
    },
    "executionInfo": {
     "elapsed": 10485,
     "status": "ok",
     "timestamp": 1712064323417,
     "user": {
      "displayName": "Andrés Mena Abarca",
      "userId": "07418092259593836578"
     },
     "user_tz": 360
    },
    "id": "n3rOsUESDeTs",
    "outputId": "1cd40ed7-f1d2-4b89-bca5-696418df0021"
   },
   "outputs": [
    {
     "name": "stdout",
     "output_type": "stream",
     "text": [
      "El monto en colones es: 772,500.0\n"
     ]
    }
   ],
   "source": [
    "#Autor: Eyner Serrano\n",
    "\n",
    "cantidad_dolares = float(input(\"Ingrese el monto en dólares: \"))\n",
    "\n",
    "tipo_cambio = float(input(\"Ingrese el tipo de cambio: \"))\n",
    "\n",
    "colones = cantidad_dolares * tipo_cambio\n",
    "\n",
    "print (f\"El monto en colones es: {colones:,}\")\n"
   ]
  },
  {
   "cell_type": "markdown",
   "metadata": {},
   "source": [
    "# Problema #2\n",
    "\n",
    "### Convertir grados centígrados a Fahrenheit.\n",
    "\n",
    "## Entrada: leer la cantidad de grados\n",
    "\n",
    "## Proceso: conversion = (centigrados * 1.8) + 32\n",
    "\n",
    "## Salida:La temperatura en Fahrenheit es: conversion"
   ]
  },
  {
   "cell_type": "code",
   "execution_count": 5,
   "metadata": {},
   "outputs": [
    {
     "name": "stdout",
     "output_type": "stream",
     "text": [
      "La temperatura en grados Fahrenheit es: 509.0\n"
     ]
    }
   ],
   "source": [
    "# Autor: Eyner Serrano\n",
    "\n",
    "grados = float(input(\"Por favor indicar la temperatura en grados centígrados: \"))\n",
    "conversion = (grados * 1.8) + 32\n",
    "\n",
    "print (f\"La temperatura en grados Fahrenheit es: {conversion}\")"
   ]
  },
  {
   "cell_type": "markdown",
   "metadata": {},
   "source": [
    "# Problema #3\n",
    "\n",
    "### Mostrar cuántos segundos tiene un lustro.\n",
    "\n",
    "## Entrada: saber cuanto es un lustro\n",
    "\n",
    "## Proceso: años * 31536000\n",
    "\n",
    "## Salida:La cantidad de segundos que tiene un ustro es proceso"
   ]
  },
  {
   "cell_type": "code",
   "execution_count": 7,
   "metadata": {},
   "outputs": [
    {
     "name": "stdout",
     "output_type": "stream",
     "text": [
      "La cantidad de segundos que tiene un lustro es 157,680,000\n"
     ]
    }
   ],
   "source": [
    "# Autor: Eyner Serrano\n",
    "\n",
    "lustro = 5\n",
    "segundos = lustro * 31536000\n",
    "\n",
    "print(f\"La cantidad de segundos que tiene un lustro es {segundos:,}\")"
   ]
  },
  {
   "cell_type": "markdown",
   "metadata": {},
   "source": [
    "# Problema #4\n",
    "\n",
    "### Calcular cuántos meses han transcurrido desde nuestra fecha de nacimiento.\n",
    "\n",
    "## Entrada: Solicitar la fecha de nacimiento\n",
    "\n",
    "## Proceso:\n",
    "fecha actual\n",
    "años = fecha actual - fecha de nacimiento\n",
    "meses = mes actual de fecha actual -  mes de fecha de nacimiento\n",
    "\n",
    "total meses = (años * 12) + meses\n",
    "\n",
    "## Salida:Han transcurrido total meses desde tu fecha de nacimiento"
   ]
  },
  {
   "cell_type": "code",
   "execution_count": 17,
   "metadata": {},
   "outputs": [
    {
     "name": "stdout",
     "output_type": "stream",
     "text": [
      "Han transcurrido 330 meses desde tu fecha de nacimiento.\n"
     ]
    }
   ],
   "source": [
    "# Autor: Eyner Serrano\n",
    "\n",
    "from datetime import datetime\n",
    "birth_date = input(\"Ingresa tu fecha de nacimiento (YYYY-MM-DD): \")\n",
    "fecha_nacimiento = datetime.strptime(birth_date, \"%Y-%m-%d\")\n",
    "fecha_actual = datetime.today()\n",
    "años = fecha_actual.year - fecha_nacimiento.year\n",
    "meses = fecha_actual.month - fecha_nacimiento.month\n",
    "total_meses = (años * 12) + meses\n",
    "\n",
    "print(f\"Han transcurrido {total_meses} meses desde tu fecha de nacimiento.\")"
   ]
  }
 ],
 "metadata": {
  "colab": {
   "provenance": []
  },
  "kernelspec": {
   "display_name": "Python 3",
   "name": "python3"
  },
  "language_info": {
   "codemirror_mode": {
    "name": "ipython",
    "version": 3
   },
   "file_extension": ".py",
   "mimetype": "text/x-python",
   "name": "python",
   "nbconvert_exporter": "python",
   "pygments_lexer": "ipython3",
   "version": "3.13.2"
  }
 },
 "nbformat": 4,
 "nbformat_minor": 0
}
